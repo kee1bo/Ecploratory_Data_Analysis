{
  "nbformat": 4,
  "nbformat_minor": 0,
  "metadata": {
    "colab": {
      "name": "lecture1.ipynb",
      "provenance": [],
      "authorship_tag": "ABX9TyM64ytnCWpq5ZtCNlRF66Ij",
      "include_colab_link": true
    },
    "kernelspec": {
      "name": "python3",
      "display_name": "Python 3"
    },
    "language_info": {
      "name": "python"
    }
  },
  "cells": [
    {
      "cell_type": "markdown",
      "metadata": {
        "id": "view-in-github",
        "colab_type": "text"
      },
      "source": [
        "<a href=\"https://colab.research.google.com/github/kee1bo/Exploratory_Data_Analysis/blob/main/lecture1.ipynb\" target=\"_parent\"><img src=\"https://colab.research.google.com/assets/colab-badge.svg\" alt=\"Open In Colab\"/></a>"
      ]
    },
    {
      "cell_type": "markdown",
      "source": [
        "# Signals And Systems\n",
        "\n",
        "- Reference Book:  Oppenheim, Alan, and Alan Willsky. Signals and Systems. 2nd ed. Prentice Hall.\n",
        "\n"
      ],
      "metadata": {
        "id": "mKbBCh6CUAqD"
      }
    },
    {
      "cell_type": "markdown",
      "source": [
        "# Signals and Systems Abstraction\n",
        "\n",
        "- We describe or rather the system describes\n",
        " itself by the way it transforms an **input\n",
        " signal** into an **output signal**.\n",
        "- This level of absraction to describe a system\n",
        "is said to be quite powerful and reliable, so\n",
        "we mostly used this idea when we talk about systems.\n",
        "-  This abstraction also provides us easy to\n",
        " concentrate, to follow the flow of information\n",
        " thorugh a complex system.\n"
      ],
      "metadata": {
        "id": "-WQDAgnCU2k9"
      }
    },
    {
      "cell_type": "markdown",
      "source": [
        "# Signals\n",
        "- Signals are Mathematical functions\n",
        "  - Independent variable = time.\n",
        "  - Dependent variable = voltage, flow rate,\n",
        "  sound pressure, in general the co-ordinates of\n",
        "  the rate of change of a function I think.\n",
        "\n",
        "  - There are two types of signals\n",
        "      - Continuous time (CT)\n",
        "      - Discrete time (DT)\n",
        "  "
      ],
      "metadata": {
        "id": "RMd9bSyRYMag"
      }
    },
    {
      "cell_type": "code",
      "execution_count": null,
      "metadata": {
        "id": "9LP_Yt6UTFkn"
      },
      "outputs": [],
      "source": [
        ""
      ]
    }
  ]
}